{
 "metadata": {
  "name": "",
  "signature": "sha256:f112c4de572855d209a387a5ef32c388480fdabdd779ee013a0d4ef0fa75877b"
 },
 "nbformat": 3,
 "nbformat_minor": 0,
 "worksheets": [
  {
   "cells": [
    {
     "cell_type": "markdown",
     "metadata": {},
     "source": [
      " ####NSA Yin & Yang matrix problem\n",
      "\n",
      "|A|||B||||\n",
      "|---|---|---|---|---|---|---|\n",
      "||C||B||||\n",
      "||||||D||\n",
      "||E|F|F||||\n",
      "||A||||D||\n",
      "|||C||E|||"
     ]
    },
    {
     "cell_type": "code",
     "collapsed": false,
     "input": [
      "from random import randint\n",
      "import matplotlib.pyplot as plt\n",
      "%matplotlib inline\n",
      "B=1\n",
      "t=0\n",
      "while B!=1*2*3*4*5*6: #assign values 1,2,3,4,5,6 to letters A,B,C,D,E,F\n",
      "    B=1\n",
      "    a=[[10 for i in range(7)] for j in range(6)] #preset letters in the problem, using tracking matrix a\n",
      "    a[0][0]=11\n",
      "    a[0][3]=12\n",
      "    a[1][1]=13\n",
      "    a[1][3]=12\n",
      "    a[2][5]=14\n",
      "    a[3][1]=15\n",
      "    a[3][2]=16\n",
      "    a[3][3]=16\n",
      "    a[4][1]=11\n",
      "    a[4][5]=14\n",
      "    a[5][2]=13\n",
      "    a[5][4]=15\n",
      "    A=[] \n",
      "    (i,j)=(randint(0,5),randint(0,6)) #randomly assign starting position\n",
      "    A.append((i,j))\n",
      "    a[i][j]+=10 #split the numbers into two group by adding 10 - becoming the 20s - or adding 20 - becoming the 30s.\n",
      "    a[5-i][6-j]+=20\n",
      "    if a[i][j]%10!=0:\n",
      "        B*=a[i][j]%10 #use mod to divide into 20s and 30s - essentially forming the groups\n",
      "    k=0\n",
      "    while k<20: #divide the number into two simmetric groups randomly, repeat until solution is found \n",
      "                #B=(1*2*3*4*5*6*7) there is exactyl one 1, one 2, etc. The current setup allows for one duplicate. (existence of number 1)\n",
      "        i=randint(0,5)\n",
      "        j=randint(0,6)\n",
      "        if (i-1,j) in A or (i+1,j) in A or (i,j-1) in A or (i,j+1) in A: #only step to N,S,E,W but not NE,SW, etc.\n",
      "            if a[i][j]<20:\n",
      "                A.append((i,j))\n",
      "                if a[i][j]%10!=0:\n",
      "                    B*=a[i][j]%10\n",
      "                a[i][j]+=10\n",
      "                a[5-i][6-j]+=20\n",
      "                k+=1\n",
      "    t+=1 #count interations\n",
      "    if t%10000==0:\n",
      "        print t\n",
      "        \n",
      "    #check for isolation\n",
      "    if B==1*2*3*4*5*6:\n",
      "        for i in range(1,5):\n",
      "            for j in range(1,6):\n",
      "                if a[i][j]/10==3:\n",
      "                    if a[i-1][j]/10==2 and a[i+1][j]/10==2 and a[i][j-1]/10==2 and a[i][j+1]/10==2:\n",
      "                        print i,j\n",
      "                        B=1\n",
      "                if a[i][j]/10==2:\n",
      "                    if a[i-1][j]/10==3 and a[i+1][j]/10==3 and a[i][j-1]/10==3 and a[i][j+1]/10==3:\n",
      "                        print i,j\n",
      "                        B=1\n",
      "\n",
      "#plot results\n",
      "b=a\n",
      "for i in range(6):\n",
      "    for j in range(7):\n",
      "        b[i][j]=a[i][j]/10\n",
      "plt.imshow(b,interpolation='none')\n",
      "print 'solution found in '+repr(t)+' iterations'\n",
      "b"
     ],
     "language": "python",
     "metadata": {},
     "outputs": [
      {
       "output_type": "stream",
       "stream": "stdout",
       "text": [
        "10000\n",
        "solution found in 10256 iterations"
       ]
      },
      {
       "output_type": "stream",
       "stream": "stdout",
       "text": [
        "\n"
       ]
      },
      {
       "metadata": {},
       "output_type": "pyout",
       "prompt_number": 12,
       "text": [
        "[[3, 3, 3, 3, 2, 2, 2],\n",
        " [3, 2, 2, 2, 2, 2, 2],\n",
        " [3, 3, 3, 3, 2, 2, 2],\n",
        " [3, 3, 3, 2, 2, 2, 2],\n",
        " [3, 3, 3, 3, 3, 3, 2],\n",
        " [3, 3, 3, 2, 2, 2, 2]]"
       ]
      },
      {
       "metadata": {},
       "output_type": "display_data",
       "png": "[encoded data removed]",
       "text": [
        "<matplotlib.figure.Figure at 0x2d48be0>"
       ]
      }
     ],
     "prompt_number": 12
    },
    {
     "cell_type": "markdown",
     "metadata": {},
     "source": [
      "If not allowing for one duplicate (assigning the value of 7 to A instead of 1 - mutliplication with 1 is idem), the loop continues forever - hinting that a solution to the problem does not exist. And exhaustive search would take $~2^{21}/2^5=2^{16}$ iterations"
     ]
    },
    {
     "cell_type": "code",
     "collapsed": false,
     "input": [
      "from random import randint\n",
      "import matplotlib.pyplot as plt\n",
      "%matplotlib inline\n",
      "B=1\n",
      "t=0\n",
      "while B!=7*2*3*4*5*6:\n",
      "    B=1\n",
      "    a=[[10 for i in range(7)] for j in range(6)]\n",
      "    a[0][0]=17\n",
      "    a[0][3]=12\n",
      "    a[1][1]=13\n",
      "    a[1][3]=12\n",
      "    a[2][5]=14\n",
      "    a[3][1]=15\n",
      "    a[3][2]=16\n",
      "    a[3][3]=16\n",
      "    a[4][1]=17\n",
      "    a[4][5]=14\n",
      "    a[5][2]=13\n",
      "    a[5][4]=15\n",
      "    A=[]\n",
      "    (i,j)=(randint(0,5),randint(0,6))\n",
      "    A.append((i,j))\n",
      "    a[i][j]+=10\n",
      "    a[5-i][6-j]+=20\n",
      "    if a[i][j]%10!=0:\n",
      "        B*=a[i][j]%10\n",
      "    k=0\n",
      "    while k<20:\n",
      "        i=randint(0,5)\n",
      "        j=randint(0,6)\n",
      "        if (i-1,j) in A or (i+1,j) in A or (i,j-1) in A or (i,j+1) in A:\n",
      "            if a[i][j]<20:\n",
      "                A.append((i,j))\n",
      "                if a[i][j]%10!=0:\n",
      "                    B*=a[i][j]%10\n",
      "                a[i][j]+=10\n",
      "                a[5-i][6-j]+=20\n",
      "                k+=1\n",
      "    t+=1\n",
      "    if t%10000==0:\n",
      "        print t\n",
      "        \n",
      "    #check for isolation\n",
      "    if B==1*2*3*4*5*6:\n",
      "        for i in range(1,5):\n",
      "            for j in range(1,6):\n",
      "                if a[i][j]/10==3:\n",
      "                    if a[i-1][j]/10==2 and a[i+1][j]/10==2 and a[i][j-1]/10==2 and a[i][j+1]/10==2:\n",
      "                        print i,j\n",
      "                        B=1\n",
      "                if a[i][j]/10==2:\n",
      "                    if a[i-1][j]/10==3 and a[i+1][j]/10==3 and a[i][j-1]/10==3 and a[i][j+1]/10==3:\n",
      "                        print i,j\n",
      "                        B=1\n",
      "b=a\n",
      "for i in range(6):\n",
      "    for j in range(7):\n",
      "        b[i][j]=a[i][j]/10\n",
      "plt.imshow(b,interpolation='none')\n",
      "b"
     ],
     "language": "python",
     "metadata": {},
     "outputs": [
      {
       "output_type": "stream",
       "stream": "stdout",
       "text": [
        "10000\n",
        "20000"
       ]
      },
      {
       "output_type": "stream",
       "stream": "stdout",
       "text": [
        "\n",
        "30000"
       ]
      },
      {
       "output_type": "stream",
       "stream": "stdout",
       "text": [
        "\n",
        "40000"
       ]
      },
      {
       "output_type": "stream",
       "stream": "stdout",
       "text": [
        "\n",
        "50000"
       ]
      },
      {
       "output_type": "stream",
       "stream": "stdout",
       "text": [
        "\n",
        "60000"
       ]
      },
      {
       "output_type": "stream",
       "stream": "stdout",
       "text": [
        "\n",
        "70000"
       ]
      },
      {
       "output_type": "stream",
       "stream": "stdout",
       "text": [
        "\n",
        "80000"
       ]
      },
      {
       "output_type": "stream",
       "stream": "stdout",
       "text": [
        "\n",
        "90000"
       ]
      },
      {
       "output_type": "stream",
       "stream": "stdout",
       "text": [
        "\n",
        "100000"
       ]
      },
      {
       "output_type": "stream",
       "stream": "stdout",
       "text": [
        "\n",
        "110000"
       ]
      },
      {
       "output_type": "stream",
       "stream": "stdout",
       "text": [
        "\n",
        "120000"
       ]
      },
      {
       "output_type": "stream",
       "stream": "stdout",
       "text": [
        "\n",
        "130000"
       ]
      },
      {
       "output_type": "stream",
       "stream": "stdout",
       "text": [
        "\n",
        "140000"
       ]
      },
      {
       "output_type": "stream",
       "stream": "stdout",
       "text": [
        "\n",
        "150000"
       ]
      },
      {
       "output_type": "stream",
       "stream": "stdout",
       "text": [
        "\n",
        "160000"
       ]
      },
      {
       "output_type": "stream",
       "stream": "stdout",
       "text": [
        "\n",
        "170000"
       ]
      },
      {
       "output_type": "stream",
       "stream": "stdout",
       "text": [
        "\n",
        "180000"
       ]
      },
      {
       "output_type": "stream",
       "stream": "stdout",
       "text": [
        "\n",
        "190000"
       ]
      },
      {
       "output_type": "stream",
       "stream": "stdout",
       "text": [
        "\n",
        "200000"
       ]
      },
      {
       "output_type": "stream",
       "stream": "stdout",
       "text": [
        "\n",
        "210000"
       ]
      },
      {
       "output_type": "stream",
       "stream": "stdout",
       "text": [
        "\n",
        "220000"
       ]
      },
      {
       "output_type": "stream",
       "stream": "stdout",
       "text": [
        "\n",
        "230000"
       ]
      },
      {
       "output_type": "stream",
       "stream": "stdout",
       "text": [
        "\n",
        "240000"
       ]
      },
      {
       "output_type": "stream",
       "stream": "stdout",
       "text": [
        "\n",
        "250000"
       ]
      },
      {
       "output_type": "stream",
       "stream": "stdout",
       "text": [
        "\n",
        "260000"
       ]
      },
      {
       "output_type": "stream",
       "stream": "stdout",
       "text": [
        "\n",
        "270000"
       ]
      },
      {
       "output_type": "stream",
       "stream": "stdout",
       "text": [
        "\n",
        "280000"
       ]
      },
      {
       "output_type": "stream",
       "stream": "stdout",
       "text": [
        "\n",
        "290000"
       ]
      },
      {
       "output_type": "stream",
       "stream": "stdout",
       "text": [
        "\n",
        "300000"
       ]
      },
      {
       "output_type": "stream",
       "stream": "stdout",
       "text": [
        "\n",
        "310000"
       ]
      },
      {
       "output_type": "stream",
       "stream": "stdout",
       "text": [
        "\n",
        "320000"
       ]
      },
      {
       "output_type": "stream",
       "stream": "stdout",
       "text": [
        "\n",
        "330000"
       ]
      },
      {
       "output_type": "stream",
       "stream": "stdout",
       "text": [
        "\n",
        "340000"
       ]
      },
      {
       "output_type": "stream",
       "stream": "stdout",
       "text": [
        "\n",
        "350000"
       ]
      },
      {
       "output_type": "stream",
       "stream": "stdout",
       "text": [
        "\n",
        "360000"
       ]
      },
      {
       "output_type": "stream",
       "stream": "stdout",
       "text": [
        "\n",
        "370000"
       ]
      },
      {
       "output_type": "stream",
       "stream": "stdout",
       "text": [
        "\n",
        "380000"
       ]
      },
      {
       "output_type": "stream",
       "stream": "stdout",
       "text": [
        "\n",
        "390000"
       ]
      },
      {
       "output_type": "stream",
       "stream": "stdout",
       "text": [
        "\n",
        "400000"
       ]
      },
      {
       "output_type": "stream",
       "stream": "stdout",
       "text": [
        "\n",
        "410000"
       ]
      },
      {
       "output_type": "stream",
       "stream": "stdout",
       "text": [
        "\n",
        "420000"
       ]
      },
      {
       "output_type": "stream",
       "stream": "stdout",
       "text": [
        "\n",
        "430000"
       ]
      },
      {
       "output_type": "stream",
       "stream": "stdout",
       "text": [
        "\n",
        "440000"
       ]
      },
      {
       "output_type": "stream",
       "stream": "stdout",
       "text": [
        "\n",
        "450000"
       ]
      },
      {
       "output_type": "stream",
       "stream": "stdout",
       "text": [
        "\n",
        "460000"
       ]
      },
      {
       "output_type": "stream",
       "stream": "stdout",
       "text": [
        "\n",
        "470000"
       ]
      },
      {
       "output_type": "stream",
       "stream": "stdout",
       "text": [
        "\n",
        "480000"
       ]
      },
      {
       "output_type": "stream",
       "stream": "stdout",
       "text": [
        "\n",
        "490000"
       ]
      },
      {
       "output_type": "stream",
       "stream": "stdout",
       "text": [
        "\n",
        "500000"
       ]
      },
      {
       "output_type": "stream",
       "stream": "stdout",
       "text": [
        "\n",
        "510000"
       ]
      },
      {
       "output_type": "stream",
       "stream": "stdout",
       "text": [
        "\n",
        "520000"
       ]
      },
      {
       "output_type": "stream",
       "stream": "stdout",
       "text": [
        "\n",
        "530000"
       ]
      },
      {
       "output_type": "stream",
       "stream": "stdout",
       "text": [
        "\n",
        "540000"
       ]
      },
      {
       "output_type": "stream",
       "stream": "stdout",
       "text": [
        "\n",
        "550000"
       ]
      },
      {
       "output_type": "stream",
       "stream": "stdout",
       "text": [
        "\n",
        "560000"
       ]
      },
      {
       "output_type": "stream",
       "stream": "stdout",
       "text": [
        "\n",
        "570000"
       ]
      },
      {
       "output_type": "stream",
       "stream": "stdout",
       "text": [
        "\n",
        "580000"
       ]
      },
      {
       "output_type": "stream",
       "stream": "stdout",
       "text": [
        "\n",
        "590000"
       ]
      },
      {
       "output_type": "stream",
       "stream": "stdout",
       "text": [
        "\n",
        "600000"
       ]
      },
      {
       "output_type": "stream",
       "stream": "stdout",
       "text": [
        "\n",
        "610000"
       ]
      },
      {
       "output_type": "stream",
       "stream": "stdout",
       "text": [
        "\n",
        "620000"
       ]
      },
      {
       "output_type": "stream",
       "stream": "stdout",
       "text": [
        "\n",
        "630000"
       ]
      },
      {
       "output_type": "stream",
       "stream": "stdout",
       "text": [
        "\n",
        "640000"
       ]
      },
      {
       "output_type": "stream",
       "stream": "stdout",
       "text": [
        "\n",
        "650000"
       ]
      },
      {
       "output_type": "stream",
       "stream": "stdout",
       "text": [
        "\n",
        "660000"
       ]
      },
      {
       "output_type": "stream",
       "stream": "stdout",
       "text": [
        "\n",
        "670000"
       ]
      },
      {
       "output_type": "stream",
       "stream": "stdout",
       "text": [
        "\n"
       ]
      },
      {
       "ename": "KeyboardInterrupt",
       "evalue": "",
       "output_type": "pyerr",
       "traceback": [
        "\u001b[1;31m---------------------------------------------------------------------------\u001b[0m\n\u001b[1;31mKeyboardInterrupt\u001b[0m                         Traceback (most recent call last)",
        "\u001b[1;32m<ipython-input-5-2a0046d87a44>\u001b[0m in \u001b[0;36m<module>\u001b[1;34m()\u001b[0m\n\u001b[0;32m     31\u001b[0m         \u001b[0mi\u001b[0m\u001b[1;33m=\u001b[0m\u001b[0mrandint\u001b[0m\u001b[1;33m(\u001b[0m\u001b[1;36m0\u001b[0m\u001b[1;33m,\u001b[0m\u001b[1;36m5\u001b[0m\u001b[1;33m)\u001b[0m\u001b[1;33m\u001b[0m\u001b[0m\n\u001b[0;32m     32\u001b[0m         \u001b[0mj\u001b[0m\u001b[1;33m=\u001b[0m\u001b[0mrandint\u001b[0m\u001b[1;33m(\u001b[0m\u001b[1;36m0\u001b[0m\u001b[1;33m,\u001b[0m\u001b[1;36m6\u001b[0m\u001b[1;33m)\u001b[0m\u001b[1;33m\u001b[0m\u001b[0m\n\u001b[1;32m---> 33\u001b[1;33m         \u001b[1;32mif\u001b[0m \u001b[1;33m(\u001b[0m\u001b[0mi\u001b[0m\u001b[1;33m-\u001b[0m\u001b[1;36m1\u001b[0m\u001b[1;33m,\u001b[0m\u001b[0mj\u001b[0m\u001b[1;33m)\u001b[0m \u001b[1;32min\u001b[0m \u001b[0mA\u001b[0m \u001b[1;32mor\u001b[0m \u001b[1;33m(\u001b[0m\u001b[0mi\u001b[0m\u001b[1;33m+\u001b[0m\u001b[1;36m1\u001b[0m\u001b[1;33m,\u001b[0m\u001b[0mj\u001b[0m\u001b[1;33m)\u001b[0m \u001b[1;32min\u001b[0m \u001b[0mA\u001b[0m \u001b[1;32mor\u001b[0m \u001b[1;33m(\u001b[0m\u001b[0mi\u001b[0m\u001b[1;33m,\u001b[0m\u001b[0mj\u001b[0m\u001b[1;33m-\u001b[0m\u001b[1;36m1\u001b[0m\u001b[1;33m)\u001b[0m \u001b[1;32min\u001b[0m \u001b[0mA\u001b[0m \u001b[1;32mor\u001b[0m \u001b[1;33m(\u001b[0m\u001b[0mi\u001b[0m\u001b[1;33m,\u001b[0m\u001b[0mj\u001b[0m\u001b[1;33m+\u001b[0m\u001b[1;36m1\u001b[0m\u001b[1;33m)\u001b[0m \u001b[1;32min\u001b[0m \u001b[0mA\u001b[0m\u001b[1;33m:\u001b[0m\u001b[1;33m\u001b[0m\u001b[0m\n\u001b[0m\u001b[0;32m     34\u001b[0m             \u001b[1;32mif\u001b[0m \u001b[0ma\u001b[0m\u001b[1;33m[\u001b[0m\u001b[0mi\u001b[0m\u001b[1;33m]\u001b[0m\u001b[1;33m[\u001b[0m\u001b[0mj\u001b[0m\u001b[1;33m]\u001b[0m\u001b[1;33m<\u001b[0m\u001b[1;36m20\u001b[0m\u001b[1;33m:\u001b[0m\u001b[1;33m\u001b[0m\u001b[0m\n\u001b[0;32m     35\u001b[0m                 \u001b[0mA\u001b[0m\u001b[1;33m.\u001b[0m\u001b[0mappend\u001b[0m\u001b[1;33m(\u001b[0m\u001b[1;33m(\u001b[0m\u001b[0mi\u001b[0m\u001b[1;33m,\u001b[0m\u001b[0mj\u001b[0m\u001b[1;33m)\u001b[0m\u001b[1;33m)\u001b[0m\u001b[1;33m\u001b[0m\u001b[0m\n",
        "\u001b[1;31mKeyboardInterrupt\u001b[0m: "
       ]
      }
     ],
     "prompt_number": 5
    }
   ],
   "metadata": {}
  }
 ]
}